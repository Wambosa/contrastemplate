{
 "cells": [
  {
   "cell_type": "markdown",
   "metadata": {
    "nbpresent": {
     "id": "5e34fef3-5d1b-427f-ac25-5edc9955a441"
    },
    "slideshow": {
     "slide_type": "slide"
    }
   },
   "source": [
    "# Bare Metal ECM"
   ]
  },
  {
   "cell_type": "code",
   "execution_count": 7,
   "metadata": {
    "collapsed": true,
    "nbpresent": {
     "id": "0b4a3006-73d6-4bc1-9a77-8df5fd880958"
    },
    "slideshow": {
     "slide_type": "skip"
    }
   },
   "outputs": [],
   "source": [
    "import IPython\n",
    "verticalScaleChart = '<iframe src=verticalScaling.html width=900 height=500></iframe>'\n",
    "horizontalScaleChart = '<iframe src=horizontalScaling.html width=900 height=500></iframe>'"
   ]
  },
  {
   "cell_type": "markdown",
   "metadata": {
    "nbpresent": {
     "id": "a9c877f9-17c0-42ad-8cc5-cb143e0fa2c6"
    },
    "slideshow": {
     "slide_type": "slide"
    }
   },
   "source": [
    "## Vertical scaling\n",
    "- we get to **wait** for our investment to return\n",
    "- we get to **migrate** systems every **n** years\n",
    "- all the space in between capacity and demmand is financial waste!"
   ]
  },
  {
   "cell_type": "code",
   "execution_count": 12,
   "metadata": {
    "collapsed": false,
    "nbpresent": {
     "id": "5a067aca-0f03-4000-b714-ccf2d0ea8514"
    },
    "slideshow": {
     "slide_type": "fragment"
    }
   },
   "outputs": [
    {
     "data": {
      "text/html": [
       "<iframe src=verticalScaling.html width=900 height=500></iframe>"
      ],
      "text/plain": [
       "<IPython.core.display.HTML object>"
      ]
     },
     "execution_count": 12,
     "metadata": {},
     "output_type": "execute_result"
    }
   ],
   "source": [
    "IPython.display.HTML(verticalScaleChart)"
   ]
  },
  {
   "cell_type": "markdown",
   "metadata": {
    "nbpresent": {
     "id": "152754c0-984a-4a6f-99d9-c759a40a1dbc"
    },
    "slideshow": {
     "slide_type": "subslide"
    }
   },
   "source": [
    "### Horizontal Scaling\n",
    "- less waste\n",
    "- no foreboding migration\n",
    "- double rainbow"
   ]
  },
  {
   "cell_type": "code",
   "execution_count": 13,
   "metadata": {
    "collapsed": false,
    "nbpresent": {
     "id": "521ecc13-80ac-4d28-80e8-f97a406096f0"
    },
    "slideshow": {
     "slide_type": "fragment"
    }
   },
   "outputs": [
    {
     "data": {
      "text/html": [
       "<iframe src=horizontalScaling.html width=900 height=500></iframe>"
      ],
      "text/plain": [
       "<IPython.core.display.HTML object>"
      ]
     },
     "execution_count": 13,
     "metadata": {},
     "output_type": "execute_result"
    }
   ],
   "source": [
    "IPython.display.HTML(horizontalScaleChart)"
   ]
  },
  {
   "cell_type": "markdown",
   "metadata": {
    "nbpresent": {
     "id": "be988326-14fe-4422-8001-00c1c21b7902"
    },
    "slideshow": {
     "slide_type": "slide"
    }
   },
   "source": [
    "## Build vs Buy\n",
    "_As a solution for a enterprise problem like ECM, here are our options:_\n",
    "\n",
    "### Build\n",
    "- Use a DFS _(Distributed File System)_ and build our own ECM platform.\n",
    "- **On Premise** - OrangeFs + MongoDB\n",
    "\n",
    "### Buy\n",
    "- Use Cloud Infrastructure _(specifically Amazon Web Services)_\n",
    "- Buy ECM Platforms, multiple options:\n",
    " - Nuxeo, Alfresco, LaserFische, OnBase"
   ]
  },
  {
   "cell_type": "markdown",
   "metadata": {
    "nbpresent": {
     "id": "add0b8c9-39f4-4d70-8213-59fb95d8b2b8"
    },
    "slideshow": {
     "slide_type": "subslide"
    }
   },
   "source": [
    "![link](https://dl.dropboxusercontent.com/u/57784438/_/New_How_OFS_Works.png)"
   ]
  },
  {
   "cell_type": "markdown",
   "metadata": {
    "nbpresent": {
     "id": "575c3549-f671-4bac-8301-9e384d0dc2a7"
    },
    "slideshow": {
     "slide_type": "subslide"
    }
   },
   "source": [
    "![](https://dl.dropboxusercontent.com/u/57784438/_/ofs_client_interfaces_2_9.png)"
   ]
  },
  {
   "cell_type": "markdown",
   "metadata": {
    "nbpresent": {
     "id": "27d121c5-ae06-4a26-af29-69c1522f774a"
    },
    "slideshow": {
     "slide_type": "subslide"
    }
   },
   "source": [
    "![](https://dl.dropboxusercontent.com/u/57784438/_/aws_s3_safe.png)"
   ]
  },
  {
   "cell_type": "markdown",
   "metadata": {
    "nbpresent": {
     "id": "ef254c1f-6248-4101-8c57-f5a7e27288b9"
    },
    "slideshow": {
     "slide_type": "subslide"
    }
   },
   "source": [
    "![](https://dl.dropboxusercontent.com/u/57784438/_/nuxio_ecm.png)"
   ]
  },
  {
   "cell_type": "markdown",
   "metadata": {
    "nbpresent": {
     "id": "2dac821a-87d6-46ac-8906-3233b6122b82"
    },
    "slideshow": {
     "slide_type": "subslide"
    }
   },
   "source": [
    "![](https://dl.dropboxusercontent.com/u/57784438/_/NuxeoS3Diagram.png)"
   ]
  },
  {
   "cell_type": "markdown",
   "metadata": {
    "slideshow": {
     "slide_type": "slide"
    }
   },
   "source": [
    "# Demo"
   ]
  },
  {
   "cell_type": "code",
   "execution_count": 20,
   "metadata": {
    "collapsed": false,
    "nbpresent": {
     "id": "8352dd36-1211-415d-bbe9-fc27c4e7f815"
    },
    "scrolled": true,
    "slideshow": {
     "slide_type": "slide"
    }
   },
   "outputs": [
    {
     "data": {
      "text/html": [
       "<iframe src=ecmSummary.html width=900 height=500></iframe>"
      ],
      "text/plain": [
       "<IPython.core.display.HTML object>"
      ]
     },
     "execution_count": 20,
     "metadata": {},
     "output_type": "execute_result"
    }
   ],
   "source": [
    "IPython.display.HTML('<iframe src=ecmSummary.html width=900 height=500></iframe>')"
   ]
  },
  {
   "cell_type": "markdown",
   "metadata": {
    "slideshow": {
     "slide_type": "fragment"
    }
   },
   "source": [
    "at a high level. We compared cost, time, complexity"
   ]
  }
 ],
 "metadata": {
  "anaconda-cloud": {},
  "celltoolbar": "Slideshow",
  "kernelspec": {
   "display_name": "Python [Root]",
   "language": "python",
   "name": "Python [Root]"
  },
  "language_info": {
   "codemirror_mode": {
    "name": "ipython",
    "version": 3
   },
   "file_extension": ".py",
   "mimetype": "text/x-python",
   "name": "python",
   "nbconvert_exporter": "python",
   "pygments_lexer": "ipython3",
   "version": "3.5.2"
  },
  "widgets": {
   "state": {},
   "version": "1.1.0"
  }
 },
 "nbformat": 4,
 "nbformat_minor": 0
}
